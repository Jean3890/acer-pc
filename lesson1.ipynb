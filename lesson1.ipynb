{
 "cells": [
  {
   "cell_type": "code",
   "execution_count": 1,
   "metadata": {},
   "outputs": [
    {
     "name": "stdout",
     "output_type": "stream",
     "text": [
      "hello word\n"
     ]
    }
   ],
   "source": [
    "hello_string = 'hello'\n",
    "word_string = 'word'\n",
    "\n",
    "greetings = hello_string + ' ' + word_string\n",
    "print ( greetings)"
   ]
  },
  {
   "cell_type": "code",
   "execution_count": 4,
   "metadata": {},
   "outputs": [
    {
     "name": "stdout",
     "output_type": "stream",
     "text": [
      "Hello, jean!\n"
     ]
    }
   ],
   "source": [
    "name = \"jean\"\n",
    "hello_string = f\"Hello, {name}!\"\n",
    "print ( hello_string)"
   ]
  },
  {
   "cell_type": "code",
   "execution_count": null,
   "metadata": {},
   "outputs": [],
   "source": [
    "side = 10\n",
    "square = side ** 2 \n",
    "print ('Площа квадрату =', square)"
   ]
  },
  {
   "cell_type": "code",
   "execution_count": 21,
   "metadata": {},
   "outputs": [
    {
     "name": "stdout",
     "output_type": "stream",
     "text": [
      "Hello, mrs Yana Chupai!\n"
     ]
    }
   ],
   "source": [
    "first_name = 'Yana';\n",
    "last_name = 'Chupai';\n",
    "grettinds = f\"Hello, mrs {first_name} { last_name}!\"\n",
    "print (grettinds)"
   ]
  },
  {
   "cell_type": "code",
   "execution_count": 18,
   "metadata": {},
   "outputs": [
    {
     "name": "stdout",
     "output_type": "stream",
     "text": [
      "True\n",
      "False\n"
     ]
    }
   ],
   "source": [
    "age = 18\n",
    "adult = (age >= 18)\n",
    "print (adult)\n",
    "\n",
    "age = 15 \n",
    "adult = (age >= 18)\n",
    "print (adult)"
   ]
  },
  {
   "cell_type": "code",
   "execution_count": null,
   "metadata": {},
   "outputs": [],
   "source": [
    "first_name = input('Yana')\n",
    "last_name = input('Chupai')\n",
    "gender = input('jean')\n",
    "grettinds = f\"Hello, {gender} {first_name} { last_name}!\"\n",
    "print (grettinds)\n"
   ]
  }
 ],
 "metadata": {
  "interpreter": {
   "hash": "369f2c481f4da34e4445cda3fffd2e751bd1c4d706f27375911949ba6bb62e1c"
  },
  "kernelspec": {
   "display_name": "Python 3.10.4 64-bit",
   "language": "python",
   "name": "python3"
  },
  "language_info": {
   "codemirror_mode": {
    "name": "ipython",
    "version": 3
   },
   "file_extension": ".py",
   "mimetype": "text/x-python",
   "name": "python",
   "nbconvert_exporter": "python",
   "pygments_lexer": "ipython3",
   "version": "3.10.4"
  },
  "orig_nbformat": 4
 },
 "nbformat": 4,
 "nbformat_minor": 2
}

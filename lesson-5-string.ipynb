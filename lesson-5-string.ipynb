{
 "cells": [
  {
   "cell_type": "code",
   "execution_count": null,
   "metadata": {},
   "outputs": [],
   "source": [
    "# https://www.tutorialspoint.com/What-is-the-maximum-length-of-string-in-Python\n",
    "import sys\n",
    "sys.maxsize"
   ]
  },
  {
   "cell_type": "code",
   "execution_count": null,
   "metadata": {},
   "outputs": [],
   "source": []
  },
  {
   "cell_type": "code",
   "execution_count": null,
   "metadata": {},
   "outputs": [],
   "source": [
    "this_is_string = \"Hi there!\"\n",
    "print(type(this_is_string))\n",
    " \n",
    "the_same_string = 'Hi there!'\n",
    "print(type(the_same_string))\n",
    "\n",
    "this_is_string\n",
    "this_is_string == the_same_string  # True\n"
   ]
  },
  {
   "cell_type": "code",
   "execution_count": null,
   "metadata": {},
   "outputs": [],
   "source": [
    "text = \"\"\"This is first line\n",
    "And second line\n",
    "Last third line\"\"\"\n",
    "\n",
    "print(text)\n",
    " \n",
    "song = '''Jingle bells, jingle bells\n",
    "Jingle all the way\n",
    "Oh, what fun it is to ride\n",
    "In a one horse open sleigh'''\n",
    "print(song)\n",
    "\n",
    "menu = '''1-sort\n",
    "2-find\n",
    "3-delete\n",
    "4-update'''  \n",
    "print(menu)\n",
    "\n",
    "menu_key = input('Select menu')"
   ]
  },
  {
   "cell_type": "code",
   "execution_count": null,
   "metadata": {},
   "outputs": [],
   "source": [
    "one_line_text = \"Textual data in Python is handled with str objects, or strings. \"\\\n",
    "            \t\"Strings are immutable sequences of Unicode code points. \"\\\n",
    "            \t\"String literals are written in a variety of ways.\"\n",
    "\n",
    "print(one_line_text)"
   ]
  },
  {
   "cell_type": "code",
   "execution_count": null,
   "metadata": {},
   "outputs": [],
   "source": [
    "# an integer to a string\n",
    "s = str(15)\n",
    "print(type(s))\n",
    "print(s)\n",
    " \n",
    "s = str(15.24)\n",
    "print(type(s))\n",
    "print(s) \n",
    " \n",
    "# a list to a string\n",
    "s = str([12, 11, 44])\n",
    "print(s)\n",
    "print(type(s))\n",
    "\n",
    "s = str(False)\n",
    "print(s)\n",
    "print(type(s))"
   ]
  },
  {
   "cell_type": "code",
   "execution_count": null,
   "metadata": {},
   "outputs": [],
   "source": [
    "# Indexing\n",
    "S = 'Hello  Word'\n",
    "#    12345 \n",
    "print(S[1])\t# Prints e\n",
    "print(S[7])\t# Prints o\n",
    " \n",
    "# Negative Indexing\n",
    "S = 'ABCDEFGHI'\n",
    "print(S[-2])\t# Prints H\n",
    "print(S[-6])\t# Prints D"
   ]
  },
  {
   "cell_type": "code",
   "execution_count": null,
   "metadata": {},
   "outputs": [],
   "source": [
    "pip = 'Dmytro Kovalyuk'\n",
    "first_name_start = pip[0]\n",
    "last_name_start = pip[-8]\n",
    " \n",
    "print(first_name_start)\n",
    "print(last_name_start)\n",
    " \n",
    "if first_name_start == last_name_start :\n",
    "\tprint('first name and last name strts with', first_name_start)"
   ]
  },
  {
   "cell_type": "code",
   "execution_count": null,
   "metadata": {},
   "outputs": [],
   "source": [
    "GZ = 'KA2134HH'\n",
    "GZ[2:6]\n",
    "GZ[-1:-3:-1]\n"
   ]
  },
  {
   "cell_type": "code",
   "execution_count": null,
   "metadata": {},
   "outputs": [],
   "source": [
    "s = 'abcdefghijk'\n",
    "#    012345678910 \n",
    "s[0:6]\n",
    "s[:6]\n",
    "s[3:]\n",
    "s[2:9:5]\n",
    "\n",
    "s[::-2]\n",
    "s[-5:]\n",
    "s[1:-1]\n",
    "\n",
    "s[-1:-6:-2]"
   ]
  },
  {
   "cell_type": "code",
   "execution_count": null,
   "metadata": {},
   "outputs": [],
   "source": [
    "S = 'Hello, World!'\n",
    "S[0] = 'H'"
   ]
  },
  {
   "cell_type": "code",
   "execution_count": null,
   "metadata": {},
   "outputs": [],
   "source": [
    "S = 'Hello, World'\n",
    "print(len(S))\n",
    "\n",
    "S[100]"
   ]
  },
  {
   "cell_type": "code",
   "execution_count": null,
   "metadata": {},
   "outputs": [],
   "source": [
    "last_name = 'Kovalyuk'\n",
    "first_name = 'Dmytro'\n",
    "status = 'Mr.'\n",
    "\n",
    "fio = status + ' ' + last_name + ' ' + first_name\n",
    "print(fio)\n",
    "# Hello, World!"
   ]
  },
  {
   "cell_type": "code",
   "execution_count": null,
   "metadata": {},
   "outputs": [],
   "source": [
    "delimiter = '-' * 25\n",
    "print(delimiter)\n",
    " \n",
    "s = 'abc ' * 5\n",
    "print(s)"
   ]
  },
  {
   "cell_type": "code",
   "execution_count": null,
   "metadata": {},
   "outputs": [],
   "source": [
    "name = 'д\\'Артаньян'\n",
    "print(name)\n",
    "\n",
    "cytata = \"avtor says: \\\"cytata\\\"\"\n",
    "print(cytata)\n",
    "\n",
    "len(name)\n"
   ]
  },
  {
   "cell_type": "code",
   "execution_count": null,
   "metadata": {},
   "outputs": [],
   "source": [
    "S = 'Hello, World!'\n",
    "print(len(S))"
   ]
  },
  {
   "cell_type": "code",
   "execution_count": null,
   "metadata": {},
   "outputs": [],
   "source": [
    "passw = input('Enter, password: ')\n",
    "passw.count('1')\n"
   ]
  },
  {
   "cell_type": "code",
   "execution_count": null,
   "metadata": {},
   "outputs": [],
   "source": [
    "passw = input('Enter, password: ')\n",
    "passw.count('pass', 2)\n"
   ]
  },
  {
   "cell_type": "code",
   "execution_count": null,
   "metadata": {},
   "outputs": [],
   "source": [
    "s = 'Hello, World!'\n",
    "for letter in s:\n",
    "\tprint(letter, end=' ')"
   ]
  },
  {
   "cell_type": "code",
   "execution_count": null,
   "metadata": {},
   "outputs": [],
   "source": [
    "S = 'HellO, World!'\n",
    "print(S.lower())"
   ]
  },
  {
   "cell_type": "code",
   "execution_count": null,
   "metadata": {},
   "outputs": [],
   "source": [
    "S = 'Hello, World!'\n",
    "print(S.upper())"
   ]
  },
  {
   "cell_type": "code",
   "execution_count": null,
   "metadata": {},
   "outputs": [],
   "source": [
    "S = 'Hello, World and Dmytro'\n",
    "print(S.capitalize())"
   ]
  },
  {
   "cell_type": "code",
   "execution_count": null,
   "metadata": {},
   "outputs": [],
   "source": [
    "S = 'Hello, World!'\n",
    "print(S.swapcase())"
   ]
  },
  {
   "cell_type": "code",
   "execution_count": null,
   "metadata": {},
   "outputs": [],
   "source": [
    "S = 'hello, hello world!'\n",
    "print(S.title())"
   ]
  },
  {
   "cell_type": "code",
   "execution_count": null,
   "metadata": {},
   "outputs": [],
   "source": [
    "s = \"Hello Word!\"\n",
    " \n",
    "start = 0\n",
    "end = 5\n",
    " \n",
    "print(s.find(\"!\")) \n",
    "print(s.find(\"o\"))  \n",
    "print(s.rfind('o')) "
   ]
  },
  {
   "cell_type": "code",
   "execution_count": null,
   "metadata": {},
   "outputs": [],
   "source": [
    "s = \"I am learning strings in Python Some new methods got now.\"\n",
    "words = s.split()\n",
    "print(words)\n",
    "print(type(words))\n",
    "print(len(words))"
   ]
  },
  {
   "cell_type": "code",
   "execution_count": null,
   "metadata": {},
   "outputs": [],
   "source": [
    "db_desc = 'mysql;127.0.0.1;root;asdwrsc'\n",
    "\n",
    "connection_params = db_desc.split(';')\n",
    "print('rdbms: ', connection_params[0])\n",
    "print('host: ', connection_params[1])\n",
    "print('user: ', connection_params[2])"
   ]
  },
  {
   "cell_type": "code",
   "execution_count": null,
   "metadata": {},
   "outputs": [],
   "source": [
    "sentences = [\"I am learning strings in Python\", \"Some new methods got now.\", \"test\"]\n",
    "text = \" || \".join(sentences)\n",
    "print(text) # I am learning strings in Python. Some new methods got now."
   ]
  },
  {
   "cell_type": "code",
   "execution_count": null,
   "metadata": {},
   "outputs": [],
   "source": [
    "connection_params = ['mysql', '127.0.0.1', 'root', 'userpassw']\n",
    "connection_string = ' | '.join(connection_params)\n",
    "print(connection_string)"
   ]
  },
  {
   "cell_type": "code",
   "execution_count": null,
   "metadata": {},
   "outputs": [],
   "source": [
    "adv_words = ['купити', 'продати', 'реклама']\n",
    "user_text = input()\n",
    "not_found = -1\n",
    "is_spam = False\n",
    " \n",
    "for stop_word in adv_words :\n",
    "    if user_text.find(stop_word) != not_found:\n",
    "        is_spam = True\n",
    "        break\n",
    "\t\n",
    "message = 'Spam' if (is_spam) else 'Not Spam' \t\n",
    "print(message)"
   ]
  },
  {
   "cell_type": "code",
   "execution_count": null,
   "metadata": {},
   "outputs": [],
   "source": [
    "map = {ord('ю'): 'iu', ord('в'): 'v'}\n",
    "\n",
    "last_name = 'Ковлюк Ковлюк Ковлюк '\n",
    "\n",
    "last_name_eng = last_name.translate(map)\n",
    "print(last_name_eng)"
   ]
  },
  {
   "cell_type": "code",
   "execution_count": null,
   "metadata": {},
   "outputs": [],
   "source": [
    "# f-String Formatter\n",
    "age = 14\n",
    "name = 'Олег'\n",
    "\n",
    "S = f\"Мене звати {name}. Мені {age} років.\"\n",
    "print(S)"
   ]
  },
  {
   "cell_type": "code",
   "execution_count": null,
   "metadata": {},
   "outputs": [],
   "source": [
    "# printf-style % string formatting\n",
    "S = 'Мене звати %s. Мені %d років. %s' % ('Dmytro', 14, 'Олег')\n",
    "print(S)"
   ]
  },
  {
   "cell_type": "code",
   "execution_count": null,
   "metadata": {},
   "outputs": [],
   "source": [
    "# format() Built-in Method\n",
    "age = 14\n",
    "\n",
    "S = 'Мене звати {1}. Мені {0} років.'.format(age, 'Олег')\n",
    "print(S)"
   ]
  },
  {
   "cell_type": "markdown",
   "metadata": {},
   "source": [
    "print(\"|{:<10}|{:*^10}|{:>10}|\".format('left', 'center', 'right'))\n",
    "\n"
   ]
  },
  {
   "cell_type": "code",
   "execution_count": null,
   "metadata": {},
   "outputs": [],
   "source": [
    "print(\"|{:<10}|{:*^0}|{:>20}|\".format('left', 'center', 'right'))\n",
    "\n",
    "print('pi: {:0.4}'.format(3.14151553363))\n",
    "\n",
    "\n"
   ]
  },
  {
   "cell_type": "code",
   "execution_count": null,
   "metadata": {},
   "outputs": [],
   "source": [
    "delimiter = '-' * 80\n",
    "goods = [['Апельсин', 6, 150.25, '12:00'], ['Лимон', 8, 90.80, '13:43'], ['Картопля', 123, 445.22]]\n",
    " \n",
    "total_sum = 0\n",
    "number = 0\n",
    " \n",
    "print(delimiter)\n",
    "print(\"|{:^5}|{:<40}|{:>15}|{:>15}|\".format('№', 'Товар', 'кількіть', 'вартість'))\n",
    "print(delimiter)\n",
    " \n",
    "for good in goods :\n",
    "    name = good[0]\n",
    "    count = good[1]\n",
    "    money = good[2]\n",
    "    number += 1;\n",
    "    total_sum += money\n",
    "    print(\"|{:^5}|{:<40}|{:>15}|{:>15}|\".format(number, name, count, money))\n",
    " \n",
    "print(delimiter)\n",
    "print(\"|{:<62}|{:>15}|\".format(' Продано всього', total_sum))\n",
    "print(delimiter)\n"
   ]
  },
  {
   "cell_type": "code",
   "execution_count": null,
   "metadata": {},
   "outputs": [],
   "source": [
    "print(\"|{:*^8}|\".format('123456'))\n"
   ]
  },
  {
   "cell_type": "code",
   "execution_count": null,
   "metadata": {},
   "outputs": [],
   "source": [
    "text = input('Enter text: ')\n",
    "text = text.rstrip()\n",
    "\n",
    "is_last = False\n",
    "space_position_prev = 0\n",
    "word_max = ''\n",
    "\n",
    "while not is_last:\n",
    "    space_position_current = text.find(' ', space_position_prev)\n",
    "    if space_position_current == -1:\n",
    "        print('The largest world is: ', word_max)\n",
    "        break\n",
    "    else:\n",
    "        word = text[space_position_prev : space_position_current]\n",
    "        print(word)\n",
    "        space_position_prev = space_position_current + 1 \n",
    "        if len(word) > len(word_max):\n",
    "            word_max = word"
   ]
  }
 ],
 "metadata": {
  "kernelspec": {
   "display_name": "Python 3.10.4 64-bit",
   "language": "python",
   "name": "python3"
  },
  "language_info": {
   "codemirror_mode": {
    "name": "ipython",
    "version": 3
   },
   "file_extension": ".py",
   "mimetype": "text/x-python",
   "name": "python",
   "nbconvert_exporter": "python",
   "pygments_lexer": "ipython3",
   "version": "3.10.4"
  },
  "orig_nbformat": 4,
  "vscode": {
   "interpreter": {
    "hash": "25a19fbe0a9132dfb9279d48d161753c6352f8f9478c2e74383d340069b907c3"
   }
  }
 },
 "nbformat": 4,
 "nbformat_minor": 2
}

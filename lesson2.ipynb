{
 "cells": [
  {
   "cell_type": "code",
   "execution_count": null,
   "metadata": {},
   "outputs": [],
   "source": [
    "age = int(input('how old are you?'))\n",
    "if age >= 18:\n",
    "    print (\"you can buy alcohol <3\")\n",
    "else:\n",
    "    print ('go home.')"
   ]
  },
  {
   "cell_type": "code",
   "execution_count": null,
   "metadata": {},
   "outputs": [],
   "source": [
    "a = input(\"Ведіть число\")\n",
    "\n",
    "a = int(a)\n",
    "if a > 0:\n",
    "    print (\"число додатнє\")\n",
    "elif a < 0:\n",
    "    print (\"число від'ємне\")\n",
    "else:\n",
    "    print (\"число нуль\")\n",
    "            "
   ]
  },
  {
   "cell_type": "code",
   "execution_count": null,
   "metadata": {},
   "outputs": [],
   "source": [
    "operand_1 = int(input('Введите число A'))\n",
    "operand_2 = int(input('Введите число B'))\n",
    "operation = input('Enter operation: | + | - | * |')\n",
    "\n",
    "result = None\n",
    "if operation == '+':\n",
    "    result = operand_1 + operand_2\n",
    "elif operation == '-':\n",
    "    result = operand_1 - operand_2\n",
    "elif operation == '*':\n",
    "    result = operand_1 * operand_2\n",
    "else:\n",
    "    print('Operation not supported:', operation)\n",
    "\n",
    "if(result != None):\n",
    "    print(operand_1, operation, operand_2, '=', result)"
   ]
  },
  {
   "cell_type": "code",
   "execution_count": null,
   "metadata": {},
   "outputs": [],
   "source": [
    "operand_1 = int(input('Введите число A'))\n",
    "operand_2 = int(input('Введите число B'))\n",
    "operation = input('Enter operation: | + | - | * |')\n",
    "\n",
    "result = None\n",
    "match operation:\n",
    "    case '+':\n",
    "        result = operand_1 + operand_2    \n",
    "    case '-':\n",
    "        result = operand_1 - operand_2    \n",
    "    case '*':\n",
    "        result = operand_1 * operand_2    \n",
    "    case _:\n",
    "        print('Operation not supported:', operation)\n",
    "\n",
    "if(result):\n",
    "    print(operand_1, operation, operand_2, '=', result)"
   ]
  }
 ],
 "metadata": {
  "interpreter": {
   "hash": "369f2c481f4da34e4445cda3fffd2e751bd1c4d706f27375911949ba6bb62e1c"
  },
  "kernelspec": {
   "display_name": "Python 3.10.4 64-bit",
   "language": "python",
   "name": "python3"
  },
  "language_info": {
   "codemirror_mode": {
    "name": "ipython",
    "version": 3
   },
   "file_extension": ".py",
   "mimetype": "text/x-python",
   "name": "python",
   "nbconvert_exporter": "python",
   "pygments_lexer": "ipython3",
   "version": "3.10.4"
  },
  "orig_nbformat": 4
 },
 "nbformat": 4,
 "nbformat_minor": 2
}

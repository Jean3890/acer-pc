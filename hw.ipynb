{
 "cells": [
  {
   "cell_type": "code",
   "execution_count": null,
   "metadata": {},
   "outputs": [],
   "source": [
    "print ('Дано: трикутник ABC')\n",
    "\n",
    "A = 6\n",
    "B = 17\n",
    "C = 4\n",
    "p = A + B + C\n",
    "\n",
    "print ('p =', p)\n"
   ]
  },
  {
   "cell_type": "code",
   "execution_count": null,
   "metadata": {},
   "outputs": [],
   "source": [
    "town = input('З якого міста:')\n",
    "number_school = input('Номер школи:')\n",
    "gretting = f\"Привіт. Я з міста {town}, навчаюся у школі № {number_school}\"\n",
    "\n",
    "print (gretting)"
   ]
  },
  {
   "cell_type": "code",
   "execution_count": null,
   "metadata": {},
   "outputs": [],
   "source": [
    "last_name = input('Ваше призвіще:')\n",
    "score = input('Кількість балів:')\n",
    "\n",
    "score = int(score)\n",
    "if score < 60:\n",
    "    print ('НЕЗАДОВІЛЬНО')\n",
    "elif score < 74: \n",
    "    print ('ЗАДОВІЛЬНО')\n",
    "elif score < 94:\n",
    "    print ('ДОБРЕ')\n",
    "elif score <101:\n",
    "    print ('ВІДМІННО')\n",
    "else:\n",
    "    print ('max 100')    "
   ]
  },
  {
   "cell_type": "code",
   "execution_count": null,
   "metadata": {},
   "outputs": [],
   "source": [
    "code = int(input('Код області:'))\n",
    "\n",
    "match code:\n",
    "    case 'AA' | 'KA':\n",
    "        print = ('Київська обл')\n",
    "    case 'AB':\n",
    "        print = ('Вінницька обл')\n",
    "    case 'AH':\n",
    "        print = ('Донецька обл')\n",
    "    case 'AE':\n",
    "        print = ('Дніпропетровська область')\n",
    "    case _:\n",
    "        print ('Інша обл')\n",
    "if (code):\n",
    "    print (code)\n",
    "        "
   ]
  },
  {
   "cell_type": "code",
   "execution_count": 1,
   "metadata": {},
   "outputs": [
    {
     "name": "stdout",
     "output_type": "stream",
     "text": [
      "4\n"
     ]
    }
   ],
   "source": [
    "a = int (input())\n",
    "b = int (input ())\n",
    "\n",
    "suma = 0\n",
    "a += 1\n",
    "for x in range(a, b): \n",
    "    suma +=  x*x\n",
    "\n",
    "print (suma)"
   ]
  },
  {
   "cell_type": "code",
   "execution_count": 4,
   "metadata": {},
   "outputs": [
    {
     "name": "stdout",
     "output_type": "stream",
     "text": [
      "1 1 1 1 1 1 1 1 1 1 1 1 1 1 1 1 1 1 1 1 1 1 1 1 1 1 1 1 1 1 2 \n",
      "Кількість всіх символів:  1111111111111111111111111111112 = 31\n",
      "Кількість символа '2' в строці: 30\n"
     ]
    }
   ],
   "source": [
    "string = input (' ')\n",
    "count = 0\n",
    "\n",
    "for item in string:\n",
    "    print(item, end = ' ')\n",
    "    count +=1\n",
    "else:\n",
    "    print()\n",
    "    print('Кількість всіх символів: ', string, '=', count)\n",
    "\n",
    "sigh = input ()\n",
    "result = f\"Кількість символа '{sigh}' в строці:\"\n",
    "print (result, string.find(sigh))"
   ]
  },
  {
   "cell_type": "code",
   "execution_count": 3,
   "metadata": {},
   "outputs": [
    {
     "name": "stdout",
     "output_type": "stream",
     "text": [
      "Кількість символа 'f' в строці: 0\n"
     ]
    }
   ],
   "source": [
    "string = input ('Enter string')\n",
    "sigh = input ('Enter symbol')\n",
    "cout = 0\n",
    "for sum in string:\n",
    "    if sum == string:\n",
    "        cout += 1\n",
    "    \n",
    "print (f\"Кількість символа '{sigh}' в строці:\", cout)"
   ]
  },
  {
   "cell_type": "code",
   "execution_count": 4,
   "metadata": {},
   "outputs": [
    {
     "name": "stdout",
     "output_type": "stream",
     "text": [
      "Відвідаєте це місто вперше!\n"
     ]
    }
   ],
   "source": [
    "\n",
    "town = ['Львів', 'Мукачево', 'Житомир', 'Белек']\n",
    "visitor = input('В яке місто прямуєте ?')\n",
    "\n",
    "for journey in town:\n",
    "    if visitor == journey:\n",
    "        print('Ви вже тут бували')\n",
    "        break\n",
    "else:\n",
    "    print('Відвідаєте це місто вперше!')   "
   ]
  }
 ],
 "metadata": {
  "kernelspec": {
   "display_name": "Python 3.10.5 64-bit",
   "language": "python",
   "name": "python3"
  },
  "language_info": {
   "codemirror_mode": {
    "name": "ipython",
    "version": 3
   },
   "file_extension": ".py",
   "mimetype": "text/x-python",
   "name": "python",
   "nbconvert_exporter": "python",
   "pygments_lexer": "ipython3",
   "version": "3.10.5"
  },
  "orig_nbformat": 4,
  "vscode": {
   "interpreter": {
    "hash": "d3e10ef16274dd72e574b8fa73b58450b957d8421a2901baded3cca26fcf5dda"
   }
  }
 },
 "nbformat": 4,
 "nbformat_minor": 2
}

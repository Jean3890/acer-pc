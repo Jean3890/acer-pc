{
 "cells": [
  {
   "cell_type": "code",
   "execution_count": null,
   "metadata": {},
   "outputs": [],
   "source": [
    "last_name = input('Ваше призвіще:')\n",
    "score = input('Кількість балів:')\n",
    "\n",
    "score = int(score)\n",
    "if score < 60:\n",
    "    print ('НЕЗАДОВІЛЬНО')\n",
    "elif score < 74: \n",
    "    print ('ЗАДОВІЛЬНО')\n",
    "elif score < 94:\n",
    "    print ('ДОБРЕ')\n",
    "elif score <101:\n",
    "    print ('ВІДМІННО')\n",
    "else:\n",
    "    print ('max 100') "
   ]
  },
  {
   "cell_type": "code",
   "execution_count": null,
   "metadata": {},
   "outputs": [],
   "source": [
    "code = int(input('Код області:'))\n",
    "\n",
    "match code:\n",
    "    case 'AA' | 'KA':\n",
    "        print = ('Київська обл')\n",
    "    case 'AB':\n",
    "        print = ('Вінницька обл')\n",
    "    case 'AH':\n",
    "        print = ('Донецька обл')\n",
    "    case 'AE':\n",
    "        print = ('Дніпропетровська область')\n",
    "    case _:\n",
    "        print ('Інша обл')\n",
    "if (code):\n",
    "    print (code)"
   ]
  }
 ],
 "metadata": {
  "language_info": {
   "name": "python"
  },
  "orig_nbformat": 4
 },
 "nbformat": 4,
 "nbformat_minor": 2
}

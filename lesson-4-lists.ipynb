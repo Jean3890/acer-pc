{
 "cells": [
  {
   "cell_type": "code",
   "execution_count": null,
   "metadata": {},
   "outputs": [],
   "source": [
    "chars = list('abc')\n",
    "print(chars)\n",
    "\n",
    "numbers= list((1, 2, 3))\n",
    "print(numbers)\n",
    "\n",
    "pupil_info = list(('Ivan', 'Ivanov', 15))\n",
    "print(pupil_info)"
   ]
  },
  {
   "cell_type": "code",
   "execution_count": null,
   "metadata": {},
   "outputs": [],
   "source": [
    "PY_10 = [\n",
    "    ['Ivanov', 'Ivan', 30, True],       #0\n",
    "    ['Petrov', 'Petro', 28, True],      #1\n",
    "    ['Kovalyuk', 'Dmytro', 20, False],  #2\n",
    "    ['Sidorov', 'Dmytro', 0, False],    #3\n",
    "]\n",
    "\n",
    "print(type(PY_10[2]))\n",
    "PY_10[2][2]\n",
    "PY_10[2][0]\n",
    "\n",
    "PY_10.pop(2)\n",
    "print(PY_10)"
   ]
  },
  {
   "cell_type": "code",
   "execution_count": null,
   "metadata": {},
   "outputs": [],
   "source": [
    "numbers = ['a', 'b']\n",
    "numbers.append('c')\n",
    "numbers.append('t')\n",
    "\n",
    "numbers.append(input('Enter next element: '))\n",
    "\n",
    "print(numbers)  # ['a', 'b', 'c']"
   ]
  },
  {
   "cell_type": "code",
   "execution_count": null,
   "metadata": {},
   "outputs": [],
   "source": [
    "num = [1, 2]\n",
    "print(num)\n",
    "\n",
    "num.clear()\n",
    "print(num)  # []\n",
    "print(type(num))\n",
    "\n",
    "num.append('new value')\n",
    "print(num)"
   ]
  },
  {
   "cell_type": "code",
   "execution_count": null,
   "metadata": {},
   "outputs": [],
   "source": [
    "chars = ['a', 'D', 'P', 'D', 'T', 'D']\n",
    "chars.remove('D')\n",
    "print(chars)  # ['a']"
   ]
  },
  {
   "cell_type": "code",
   "execution_count": null,
   "metadata": {},
   "outputs": [],
   "source": [
    "chars = ['a', 'D', 'P', 'D', 'T', 'D']\n",
    "chars.remove('D')\n",
    "chars.remove('D')\n",
    "print(chars)  # ['a']"
   ]
  },
  {
   "cell_type": "code",
   "execution_count": null,
   "metadata": {},
   "outputs": [],
   "source": [
    "chars = ['a', 'D', 'P', 'D', 'T', 'D']\n",
    "chars.remove('Q')"
   ]
  },
  {
   "cell_type": "code",
   "execution_count": null,
   "metadata": {},
   "outputs": [],
   "source": [
    "chars = ['a', 'b', 'a', 's', 'f', 'k']\n",
    "last = chars.pop() # i = -1\n",
    "\n",
    "print(chars)  # ['a']\n",
    "print(last)  # 'b'"
   ]
  },
  {
   "cell_type": "code",
   "execution_count": null,
   "metadata": {},
   "outputs": [],
   "source": [
    "chars = ['a', 'b', 'a', 's', 'f', 'k']\n",
    "last = chars.pop(0) # i = 3\n",
    "\n",
    "print(chars)  # ['a']\n",
    "print(last)  # 'b'"
   ]
  },
  {
   "cell_type": "code",
   "execution_count": null,
   "metadata": {},
   "outputs": [],
   "source": [
    "chars = ['a', 'b', 'a', 's', 'f', 'k']\n",
    "last = chars.pop(8) \n",
    "\n",
    "print(chars)  # ['a']\n",
    "print(last)  # 'b'"
   ]
  },
  {
   "cell_type": "code",
   "execution_count": null,
   "metadata": {},
   "outputs": [],
   "source": [
    "chars = ['a', 'b', 'a', 's', 'f', 'k']\n",
    "\n",
    "del chars[3]\n",
    "print(chars)  # ['a']"
   ]
  },
  {
   "cell_type": "code",
   "execution_count": null,
   "metadata": {},
   "outputs": [],
   "source": [
    "chars = ['a', 'b']\n",
    "numbers = [1, 2]\n",
    " \n",
    "chars.extend(numbers)\n",
    "print(chars)  # ['a', 'b', 1, 2]"
   ]
  },
  {
   "cell_type": "code",
   "execution_count": null,
   "metadata": {},
   "outputs": [],
   "source": [
    "chars = ['a', 'b', 't']\n",
    "numbers = [1, 2, 54, 21]\n",
    "\n",
    "numbers.extend(chars)\n",
    "print(numbers)"
   ]
  },
  {
   "cell_type": "code",
   "execution_count": null,
   "metadata": {},
   "outputs": [],
   "source": [
    "numbers = [1, 2, 4, 15]\n",
    "\n",
    "index = 2\n",
    "new_value = 3\n",
    "\n",
    "numbers.insert(index, new_value)\n",
    "numbers.insert(4, 10)\n",
    "\n",
    "numbers.insert(14, 'test')\n",
    "\n",
    "print(numbers)"
   ]
  },
  {
   "cell_type": "code",
   "execution_count": null,
   "metadata": {},
   "outputs": [],
   "source": [
    "pupils = ['Andriy', 'Oleh', 'Dmytro', 'Tetiana', 'Maxim', 'Oleh']\n",
    "\n",
    "index = pupils.index('Dmytro')\n",
    "\n",
    "print(index)\n",
    "print(pupils)\n"
   ]
  },
  {
   "cell_type": "code",
   "execution_count": null,
   "metadata": {},
   "outputs": [],
   "source": [
    "pupils = ['Andriy', 'Oleh', 'Dmytro', 'Tetiana', 'Maxim', 'Oleh']\n",
    "\n",
    "pupil_search = 'Oleh K'\n",
    "\n",
    "if not pupil_search in pupils:\n",
    "    pupils.append(pupil_search)\n",
    "else:\n",
    "    print(pupil_search, 'already in list')    \n",
    "\n",
    "print(pupils)"
   ]
  },
  {
   "cell_type": "code",
   "execution_count": null,
   "metadata": {},
   "outputs": [],
   "source": [
    "chars = ['a', 'b', 'a', 'c', 'a']\n",
    "a_count = chars.count('f')\n",
    "print(a_count) # 3"
   ]
  },
  {
   "cell_type": "code",
   "execution_count": null,
   "metadata": {},
   "outputs": [],
   "source": [
    "pupils = ['Andriy', 'Oleh', 'Dmytro', 'Tetiana', 'Maxim', 'Oleh']\n",
    "pupils.sort()\n",
    "print(pupils)"
   ]
  },
  {
   "cell_type": "code",
   "execution_count": null,
   "metadata": {},
   "outputs": [],
   "source": [
    "numbers = [11, 22, 4, 15, 19]\n",
    "numbers.sort()\n",
    "print(numbers)"
   ]
  },
  {
   "cell_type": "code",
   "execution_count": null,
   "metadata": {},
   "outputs": [],
   "source": [
    "test = [0.11, 65.0, True, False]\n",
    "test.sort()\n",
    "print(test)"
   ]
  },
  {
   "cell_type": "code",
   "execution_count": null,
   "metadata": {},
   "outputs": [],
   "source": [
    "chars =  ['a', 'f', 'b']\n",
    "chars_copy = chars.copy()\n",
    "\n",
    "chars_copy = chars\n",
    "\n",
    "chars.sort()\n",
    "print(chars)\n",
    "print(chars_copy)\n",
    "\n",
    "chars == chars_copy # True"
   ]
  },
  {
   "cell_type": "code",
   "execution_count": 5,
   "metadata": {},
   "outputs": [
    {
     "name": "stdout",
     "output_type": "stream",
     "text": [
      "Постачання продуктів\n",
      "Апельсин, Банан, Мандарин,  Картопля, Морква, Цибуля, Продаж продуктів за назвою:\n",
      "Продано Апельсин\n",
      "Дякуємо за покупку\n"
     ]
    }
   ],
   "source": [
    "products = ['Апельсин', 'Банан', 'Мандарин']\n",
    "products_sold = list()\n",
    "\n",
    "print('Постачання продуктів')\n",
    "'''\n",
    "while True:\n",
    "    product = input('Введіть назву продукту або 0 для виходу: ')\n",
    "\n",
    "    if product == '0' :\n",
    "        break\n",
    "    else:\n",
    "        products.append(product)\n",
    "'''\n",
    "\n",
    "provider_OAS = [' Картопля', 'Морква', 'Цибуля']\n",
    "products.extend(provider_OAS)\n",
    "\n",
    "for item in products:\n",
    "    print (item, end= ', ')\n",
    "\n",
    "'''   \n",
    "print('Продаж продуктів за назвою:')\n",
    "user_product = input('Введіть назву продукту, який бажаєте купити: ')\n",
    "\n",
    "if not user_product in products:\n",
    "  print('Вказаного продукту немає в наявності')\n",
    "   \n",
    "else:\n",
    "    products.remove(user_product)\n",
    "    products_sold.append(user_product)\n",
    "    print ('Продано', user_product)\n",
    "    print('Дякуємо за покупку')\n",
    "'''\n",
    "    \n",
    "print('Продаж продуктів за номером:')\n",
    "product_index = int(input('Введіть номер продукту, від 0 до: +len(products)'))\n",
    "\n",
    "if 0 <= product_index < len(products):\n",
    "    product = products.pop(product_index)\n",
    "    products_sold.append(product_name)\n",
    "    print('Ви купили', product_name)\n",
    "    print('Дякуємо за покупку')\n",
    "else:\n",
    "    print('Неправильно вказаний номер')\n"
   ]
  },
  {
   "cell_type": "code",
   "execution_count": null,
   "metadata": {},
   "outputs": [],
   "source": [
    "products = ['Апельсин', 'Банан', 'Мандарин']\n",
    "products_sold = list()\n",
    "\n",
    "print('Постачання продуктів')\n",
    "\n",
    "while True:\n",
    "    product = input('Введіть назву продукту або 0 для виходу: ')\n",
    "\n",
    "    if product == '0' :\n",
    "        break\n",
    "    else:\n",
    "        products.append(product)\n",
    "\n",
    "products.extend(['Картопля', 'Цибуля'])\n",
    "\n",
    "for product in products:\n",
    "    print(product, end=' ')\n",
    "\n",
    "\n",
    "print('Продаж продуктів за назвою:')\n",
    "product = input('Введіть назву продукту, який бажаєте купити: ')\n",
    "\n",
    "if product in products:\n",
    "  # видаляємо - продано, більше немає\n",
    "    products.remove(product)\n",
    "    products_sold.append(product)\n",
    "    print('Дякуємо за покупку')\n",
    "else:\n",
    "    print('Вказаного продукту немає в наявності')\n",
    "\n",
    "\n",
    "print('Продаж продуктів за номером:')\n",
    "product_index = int(input('Введіть номер продукту, який бажаєте купити: '))\n",
    "\n",
    "if 0 <= product_index < len(products):\n",
    "    product = products.pop(product_index)\n",
    "    products_sold.append(product)\n",
    "    print('Ви купили', product)\n",
    "    print('Дякуємо за покупку')\n",
    "else:\n",
    "    print('Неправильно вказаний номер')\n",
    "\n",
    "\n",
    "products.insert(1, 'Картопля молода')\n",
    "products.insert(2, 'Картопля рожева')\n",
    "\n",
    "for product in products:\n",
    "    print(product, end=' ')\n",
    "\n",
    "\n",
    "print(' ')\n",
    "\n",
    "index_potato = products.index('Картопля молода')\n",
    "products[index_potato] = 'Картопля біла'\n",
    "\n",
    "\n",
    "for product in products_sold:\n",
    "    print(product)"
   ]
  },
  {
   "cell_type": "code",
   "execution_count": 7,
   "metadata": {},
   "outputs": [
    {
     "name": "stdout",
     "output_type": "stream",
     "text": [
      "Постачання телефонів\n",
      "Nokia Iphone Samsung Nokia Xiaomi Huawei Продаж телефонів за назвою:\n"
     ]
    },
    {
     "ename": "ValueError",
     "evalue": "list.remove(x): x not in list",
     "output_type": "error",
     "traceback": [
      "\u001b[1;31m---------------------------------------------------------------------------\u001b[0m",
      "\u001b[1;31mValueError\u001b[0m                                Traceback (most recent call last)",
      "\u001b[1;32mc:\\Users\\ACER\\Desktop\\пайтон\\part1\\lesson-4-lists.ipynb Cell 24'\u001b[0m in \u001b[0;36m<cell line: 23>\u001b[1;34m()\u001b[0m\n\u001b[0;32m     <a href='vscode-notebook-cell:/c%3A/Users/ACER/Desktop/%D0%BF%D0%B0%D0%B9%D1%82%D0%BE%D0%BD/part1/lesson-4-lists.ipynb#ch0000023?line=20'>21</a>\u001b[0m phone \u001b[39m=\u001b[39m \u001b[39minput\u001b[39m(\u001b[39m'\u001b[39m\u001b[39mВведіть назву продукту, який бажаєте купити: \u001b[39m\u001b[39m'\u001b[39m)\n\u001b[0;32m     <a href='vscode-notebook-cell:/c%3A/Users/ACER/Desktop/%D0%BF%D0%B0%D0%B9%D1%82%D0%BE%D0%BD/part1/lesson-4-lists.ipynb#ch0000023?line=22'>23</a>\u001b[0m \u001b[39mif\u001b[39;00m phone \u001b[39min\u001b[39;00m phone:\n\u001b[0;32m     <a href='vscode-notebook-cell:/c%3A/Users/ACER/Desktop/%D0%BF%D0%B0%D0%B9%D1%82%D0%BE%D0%BD/part1/lesson-4-lists.ipynb#ch0000023?line=23'>24</a>\u001b[0m   \u001b[39m# видаляємо - продано, більше немає\u001b[39;00m\n\u001b[1;32m---> <a href='vscode-notebook-cell:/c%3A/Users/ACER/Desktop/%D0%BF%D0%B0%D0%B9%D1%82%D0%BE%D0%BD/part1/lesson-4-lists.ipynb#ch0000023?line=24'>25</a>\u001b[0m     phones\u001b[39m.\u001b[39;49mremove(phone)\n\u001b[0;32m     <a href='vscode-notebook-cell:/c%3A/Users/ACER/Desktop/%D0%BF%D0%B0%D0%B9%D1%82%D0%BE%D0%BD/part1/lesson-4-lists.ipynb#ch0000023?line=25'>26</a>\u001b[0m     phone_sold\u001b[39m.\u001b[39mappend(phone)\n\u001b[0;32m     <a href='vscode-notebook-cell:/c%3A/Users/ACER/Desktop/%D0%BF%D0%B0%D0%B9%D1%82%D0%BE%D0%BD/part1/lesson-4-lists.ipynb#ch0000023?line=26'>27</a>\u001b[0m     \u001b[39mprint\u001b[39m(\u001b[39m'\u001b[39m\u001b[39mДякуємо за покупку\u001b[39m\u001b[39m'\u001b[39m)\n",
      "\u001b[1;31mValueError\u001b[0m: list.remove(x): x not in list"
     ]
    }
   ],
   "source": [
    "phones = ['Nokia', 'Iphone', 'Samsung']\n",
    "phone_sold = list()\n",
    "\n",
    "print('Постачання телефонів')\n",
    "\n",
    "while True:\n",
    "    phone = input('Введіть назву продукту лібо 0 для виходу: ')\n",
    "\n",
    "    if phone == '0' :\n",
    "       break\n",
    "    else:\n",
    "        phones.append(phone)\n",
    "\n",
    "phones.extend(['Xiaomi', 'Huawei'])\n",
    "\n",
    "for phone in phones:\n",
    "    print(phone, end=' ')\n",
    "\n",
    "\n",
    "print('Продаж телефонів за назвою:')\n",
    "phone = input('Введіть назву продукту, який бажаєте купити: ')\n",
    "\n",
    "if phone in phone:\n",
    "  # видаляємо - продано, більше немає\n",
    "    phones.remove(phone)\n",
    "    phone_sold.append(phone)\n",
    "    print('Дякуємо за покупку')\n",
    "else:\n",
    "    print('Вказаного продукту немає в наявності')\n",
    "\n",
    "\n",
    "print('Продаж продуктів за номером:')\n",
    "phone_index = int(input('Введіть номер продукту, який бажаєте купити: '))\n",
    "\n",
    "if 0 <= phone_index < len(phone):\n",
    "    phones = phones.pop(phone_index)\n",
    "    if 0 <= phone_index < len(phone):\n",
    "     phones = phone.pop(phone_index)\n",
    "    phone_sold.append(phone)\n",
    "    \n",
    "\n",
    "    print('Ви купили', phone)\n",
    "    print('Дякуємо за покупку')\n",
    "else:\n",
    "    print('Неправильно вказаний номер')\n",
    "\n",
    "\n",
    "if 0 <= phone_index < len(phone):\n",
    "     phone = phone.pop(phone_index)\n",
    "     phone_sold.append(phone)\n",
    "     print('Ви купили', phone)\n",
    "     print('Дякуємо за покупку')\n",
    "else:\n",
    "    print('Неправильно вказаний номер')\n",
    "\n",
    "\n",
    "for phone in phone:\n",
    "    print(phone, end=' ')\n",
    "\n",
    "\n",
    "print(' ')\n",
    "\n",
    "index_phone = phone.index('телефон новий')\n",
    "phone[index_phone] = ('телефон дуже добрий')\n",
    "\n",
    "\n",
    "for phone in phone_sold:\n",
    "    print(phone)"
   ]
  }
 ],
 "metadata": {
  "kernelspec": {
   "display_name": "Python 3.10.5 64-bit",
   "language": "python",
   "name": "python3"
  },
  "language_info": {
   "codemirror_mode": {
    "name": "ipython",
    "version": 3
   },
   "file_extension": ".py",
   "mimetype": "text/x-python",
   "name": "python",
   "nbconvert_exporter": "python",
   "pygments_lexer": "ipython3",
   "version": "3.10.5"
  },
  "orig_nbformat": 4,
  "vscode": {
   "interpreter": {
    "hash": "d3e10ef16274dd72e574b8fa73b58450b957d8421a2901baded3cca26fcf5dda"
   }
  }
 },
 "nbformat": 4,
 "nbformat_minor": 2
}

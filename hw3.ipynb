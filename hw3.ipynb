{
 "cells": [
  {
   "cell_type": "code",
   "execution_count": null,
   "metadata": {},
   "outputs": [],
   "source": [
    "town = ['Львів', 'Мукачево', 'Житомир', 'Белек']\n",
    "visitor = input('В яке місто прямуєте ?')\n",
    "\n",
    "for journey in town:\n",
    "    if visitor == journey:\n",
    "        print('Ви вже тут бували')\n",
    "        break\n",
    "else:\n",
    "    print('Відвідаєте це місто вперше!')   "
   ]
  },
  {
   "cell_type": "code",
   "execution_count": null,
   "metadata": {},
   "outputs": [],
   "source": [
    "string = input ('Enter string')\n",
    "sigh = input ('Enter symbol')\n",
    "cout = 0\n",
    "for sum in string:\n",
    "    if sum == string:\n",
    "        cout += 1\n",
    "    \n",
    "print (f\"Кількість символа '{sigh}' в строці:\", cout)"
   ]
  },
  {
   "cell_type": "code",
   "execution_count": null,
   "metadata": {},
   "outputs": [],
   "source": [
    "a = int (input())\n",
    "b = int (input ())\n",
    "\n",
    "suma = 0\n",
    "a += 1\n",
    "for x in range(a, b): \n",
    "    suma +=  x*x\n",
    "\n",
    "print (suma)"
   ]
  }
 ],
 "metadata": {
  "language_info": {
   "name": "python"
  },
  "orig_nbformat": 4
 },
 "nbformat": 4,
 "nbformat_minor": 2
}
